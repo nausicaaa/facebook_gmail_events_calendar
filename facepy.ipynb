{
 "cells": [
  {
   "cell_type": "code",
   "execution_count": 6,
   "metadata": {
    "collapsed": false
   },
   "outputs": [],
   "source": [
    "import facepy\n",
    "import requests\n",
    "import facebook"
   ]
  },
  {
   "cell_type": "code",
   "execution_count": 8,
   "metadata": {
    "collapsed": false
   },
   "outputs": [
    {
     "name": "stdout",
     "output_type": "stream",
     "text": [
      "909696782427119|UsQCrNI58t3hphpj-1n4fqGLr-g\n"
     ]
    }
   ],
   "source": [
    "from facepy import utils\n",
    "app_id = 909696782427119 # must be integer\n",
    "app_secret = \"0000000000000000000000000000000000000000\" \n",
    "oath_access_token = utils.get_application_access_token(app_id, app_secret)\n",
    "print oath_access_token"
   ]
  },
  {
   "cell_type": "markdown",
   "metadata": {},
   "source": [
    "http://stackoverflow.com/questions/16739894/how-to-get-facebook-access-token-using-python-library\n",
    "uzywam facepy zgodnie z tym. \n",
    "najpierw zainstalowalam i tu jest dokumentacja: https://facepy.readthedocs.org/en/latest/installation.html#installation\n",
    "\n",
    "uzywam metody GraphApi, zeby sie zalogowac. dziala\n",
    "ale kiedy probuje wyciagnac eventy metoda get, to juz nie dziala, tak jakby mu byl potrzebny inny token, nie ten apki, w sensie to jest oauth token. albo musze ta apke dokonczyc w przegladarce a narazie nie wiem jak to zrobic.\n",
    "\n",
    "albo musze mu zrobic to: https://developers.facebook.com/docs/facebook-login/access-tokens#extending\n",
    "\n",
    "\n",
    "https://graph.facebook.com/oauth/CAACEdEose0cBAFqAOCWz1djVi361r6t8t787ohTNduIZANn4ZCzVCDGLGMNxNOjX1EOQYJGTYgwhu7lipOtpXaZB38dQ4nNS4Rcragv0HBzu0rQFEWWJdwY7amkqYepyu4X9Sr3eH4BUMlZB9mjjBtabnANROTgcwZAJBWKj8AngZCEjcZBPIoy1mDu5N6Ms3NZBG1iYZCrVy5uQmN15Lvr4hNENpzlCsYVMZD?grant_type=fb_exchange_token&client_id={909696782427119}&client_secret={0000000000000000000000000000000000}&fb_exchange_token={short-lived-token} \n",
    "wrzucam to w przegladrke razem po prostu. dopisuje app id, app secret i acces token biezacy moj. brakuje dalej redirecturi.\n",
    "czyli przekierowac tokena apki na klienta. ale nie wiem jak.\n",
    "909696782427119','86e3df310627e80758ac045a933adc2e'\n",
    "\n"
   ]
  },
  {
   "cell_type": "code",
   "execution_count": 19,
   "metadata": {
    "collapsed": false
   },
   "outputs": [
    {
     "data": {
      "text/plain": [
       "{u'error': {u'code': 1,\n",
       "  u'message': u'No user access token specified',\n",
       "  u'type': u'OAuthException'}}"
      ]
     },
     "execution_count": 19,
     "metadata": {},
     "output_type": "execute_result"
    }
   ],
   "source": [
    "# WILL NOT WORK\n",
    "# kwargs = {\n",
    "#     'grant_type': 'client_credentials',\n",
    "#     'grant_type': 'fb_exchange_token',         \n",
    "#     'client_id': '909696782427119',\n",
    "#     'client_secret': '80000000000000000000000000',\n",
    "#     'fb_exchange_token': '909696782427119|UsQCrNI58t3hphpj-1n4fqGLr-g'\n",
    "# }\n",
    "\n",
    "# response = requests.get('https://graph.facebook.com/v2.3/oauth/access_token', kwargs)\n",
    "# response.json()\n",
    "\n",
    "\n",
    "\n",
    "\n",
    "     "
   ]
  },
  {
   "cell_type": "code",
   "execution_count": 14,
   "metadata": {
    "collapsed": true
   },
   "outputs": [],
   "source": [
    "requests.get?"
   ]
  },
  {
   "cell_type": "code",
   "execution_count": 12,
   "metadata": {
    "collapsed": false
   },
   "outputs": [
    {
     "ename": "OAuthError",
     "evalue": "[2500] An active access token must be used to query information about the current user.",
     "output_type": "error",
     "traceback": [
      "\u001b[1;31m---------------------------------------------------------------------------\u001b[0m",
      "\u001b[1;31mOAuthError\u001b[0m                                Traceback (most recent call last)",
      "\u001b[1;32m<ipython-input-12-a0a1fbf8a8e4>\u001b[0m in \u001b[0;36m<module>\u001b[1;34m()\u001b[0m\n\u001b[0;32m      1\u001b[0m \u001b[0mgraph\u001b[0m \u001b[1;33m=\u001b[0m \u001b[0mfacepy\u001b[0m\u001b[1;33m.\u001b[0m\u001b[0mGraphAPI\u001b[0m\u001b[1;33m(\u001b[0m\u001b[0moath_access_token\u001b[0m\u001b[1;33m)\u001b[0m\u001b[1;33m\u001b[0m\u001b[0m\n\u001b[1;32m----> 2\u001b[1;33m \u001b[0mevents\u001b[0m \u001b[1;33m=\u001b[0m \u001b[0mgraph\u001b[0m\u001b[1;33m.\u001b[0m\u001b[0mget\u001b[0m\u001b[1;33m(\u001b[0m\u001b[1;34m'/me/events'\u001b[0m\u001b[1;33m)\u001b[0m\u001b[1;33m\u001b[0m\u001b[0m\n\u001b[0m",
      "\u001b[1;32m/home/aneta/.virtualenvs/events/local/lib/python2.7/site-packages/facepy/graph_api.pyc\u001b[0m in \u001b[0;36mget\u001b[1;34m(self, path, page, retry, **options)\u001b[0m\n\u001b[0;32m     70\u001b[0m             \u001b[0mdata\u001b[0m\u001b[1;33m=\u001b[0m\u001b[0moptions\u001b[0m\u001b[1;33m,\u001b[0m\u001b[1;33m\u001b[0m\u001b[0m\n\u001b[0;32m     71\u001b[0m             \u001b[0mpage\u001b[0m\u001b[1;33m=\u001b[0m\u001b[0mpage\u001b[0m\u001b[1;33m,\u001b[0m\u001b[1;33m\u001b[0m\u001b[0m\n\u001b[1;32m---> 72\u001b[1;33m             \u001b[0mretry\u001b[0m\u001b[1;33m=\u001b[0m\u001b[0mretry\u001b[0m\u001b[1;33m\u001b[0m\u001b[0m\n\u001b[0m\u001b[0;32m     73\u001b[0m         )\n\u001b[0;32m     74\u001b[0m \u001b[1;33m\u001b[0m\u001b[0m\n",
      "\u001b[1;32m/home/aneta/.virtualenvs/events/local/lib/python2.7/site-packages/facepy/graph_api.pyc\u001b[0m in \u001b[0;36m_query\u001b[1;34m(self, method, path, data, page, retry)\u001b[0m\n\u001b[0;32m    333\u001b[0m         \u001b[1;32mexcept\u001b[0m \u001b[0mFacepyError\u001b[0m\u001b[1;33m:\u001b[0m\u001b[1;33m\u001b[0m\u001b[0m\n\u001b[0;32m    334\u001b[0m             \u001b[1;32mif\u001b[0m \u001b[0mretry\u001b[0m\u001b[1;33m:\u001b[0m\u001b[1;33m\u001b[0m\u001b[0m\n\u001b[1;32m--> 335\u001b[1;33m                 \u001b[1;32mreturn\u001b[0m \u001b[0mself\u001b[0m\u001b[1;33m.\u001b[0m\u001b[0m_query\u001b[0m\u001b[1;33m(\u001b[0m\u001b[0mmethod\u001b[0m\u001b[1;33m,\u001b[0m \u001b[0mpath\u001b[0m\u001b[1;33m,\u001b[0m \u001b[0mdata\u001b[0m\u001b[1;33m,\u001b[0m \u001b[0mpage\u001b[0m\u001b[1;33m,\u001b[0m \u001b[0mretry\u001b[0m \u001b[1;33m-\u001b[0m \u001b[1;36m1\u001b[0m\u001b[1;33m)\u001b[0m\u001b[1;33m\u001b[0m\u001b[0m\n\u001b[0m\u001b[0;32m    336\u001b[0m             \u001b[1;32melse\u001b[0m\u001b[1;33m:\u001b[0m\u001b[1;33m\u001b[0m\u001b[0m\n\u001b[0;32m    337\u001b[0m                 \u001b[1;32mraise\u001b[0m\u001b[1;33m\u001b[0m\u001b[0m\n",
      "\u001b[1;32m/home/aneta/.virtualenvs/events/local/lib/python2.7/site-packages/facepy/graph_api.pyc\u001b[0m in \u001b[0;36m_query\u001b[1;34m(self, method, path, data, page, retry)\u001b[0m\n\u001b[0;32m    333\u001b[0m         \u001b[1;32mexcept\u001b[0m \u001b[0mFacepyError\u001b[0m\u001b[1;33m:\u001b[0m\u001b[1;33m\u001b[0m\u001b[0m\n\u001b[0;32m    334\u001b[0m             \u001b[1;32mif\u001b[0m \u001b[0mretry\u001b[0m\u001b[1;33m:\u001b[0m\u001b[1;33m\u001b[0m\u001b[0m\n\u001b[1;32m--> 335\u001b[1;33m                 \u001b[1;32mreturn\u001b[0m \u001b[0mself\u001b[0m\u001b[1;33m.\u001b[0m\u001b[0m_query\u001b[0m\u001b[1;33m(\u001b[0m\u001b[0mmethod\u001b[0m\u001b[1;33m,\u001b[0m \u001b[0mpath\u001b[0m\u001b[1;33m,\u001b[0m \u001b[0mdata\u001b[0m\u001b[1;33m,\u001b[0m \u001b[0mpage\u001b[0m\u001b[1;33m,\u001b[0m \u001b[0mretry\u001b[0m \u001b[1;33m-\u001b[0m \u001b[1;36m1\u001b[0m\u001b[1;33m)\u001b[0m\u001b[1;33m\u001b[0m\u001b[0m\n\u001b[0m\u001b[0;32m    336\u001b[0m             \u001b[1;32melse\u001b[0m\u001b[1;33m:\u001b[0m\u001b[1;33m\u001b[0m\u001b[0m\n\u001b[0;32m    337\u001b[0m                 \u001b[1;32mraise\u001b[0m\u001b[1;33m\u001b[0m\u001b[0m\n",
      "\u001b[1;32m/home/aneta/.virtualenvs/events/local/lib/python2.7/site-packages/facepy/graph_api.pyc\u001b[0m in \u001b[0;36m_query\u001b[1;34m(self, method, path, data, page, retry)\u001b[0m\n\u001b[0;32m    333\u001b[0m         \u001b[1;32mexcept\u001b[0m \u001b[0mFacepyError\u001b[0m\u001b[1;33m:\u001b[0m\u001b[1;33m\u001b[0m\u001b[0m\n\u001b[0;32m    334\u001b[0m             \u001b[1;32mif\u001b[0m \u001b[0mretry\u001b[0m\u001b[1;33m:\u001b[0m\u001b[1;33m\u001b[0m\u001b[0m\n\u001b[1;32m--> 335\u001b[1;33m                 \u001b[1;32mreturn\u001b[0m \u001b[0mself\u001b[0m\u001b[1;33m.\u001b[0m\u001b[0m_query\u001b[0m\u001b[1;33m(\u001b[0m\u001b[0mmethod\u001b[0m\u001b[1;33m,\u001b[0m \u001b[0mpath\u001b[0m\u001b[1;33m,\u001b[0m \u001b[0mdata\u001b[0m\u001b[1;33m,\u001b[0m \u001b[0mpage\u001b[0m\u001b[1;33m,\u001b[0m \u001b[0mretry\u001b[0m \u001b[1;33m-\u001b[0m \u001b[1;36m1\u001b[0m\u001b[1;33m)\u001b[0m\u001b[1;33m\u001b[0m\u001b[0m\n\u001b[0m\u001b[0;32m    336\u001b[0m             \u001b[1;32melse\u001b[0m\u001b[1;33m:\u001b[0m\u001b[1;33m\u001b[0m\u001b[0m\n\u001b[0;32m    337\u001b[0m                 \u001b[1;32mraise\u001b[0m\u001b[1;33m\u001b[0m\u001b[0m\n",
      "\u001b[1;32m/home/aneta/.virtualenvs/events/local/lib/python2.7/site-packages/facepy/graph_api.pyc\u001b[0m in \u001b[0;36m_query\u001b[1;34m(self, method, path, data, page, retry)\u001b[0m\n\u001b[0;32m    330\u001b[0m                 \u001b[1;32mreturn\u001b[0m \u001b[0mpaginate\u001b[0m\u001b[1;33m(\u001b[0m\u001b[0mmethod\u001b[0m\u001b[1;33m,\u001b[0m \u001b[0murl\u001b[0m\u001b[1;33m,\u001b[0m \u001b[0mdata\u001b[0m\u001b[1;33m)\u001b[0m\u001b[1;33m\u001b[0m\u001b[0m\n\u001b[0;32m    331\u001b[0m             \u001b[1;32melse\u001b[0m\u001b[1;33m:\u001b[0m\u001b[1;33m\u001b[0m\u001b[0m\n\u001b[1;32m--> 332\u001b[1;33m                 \u001b[1;32mreturn\u001b[0m \u001b[0mload\u001b[0m\u001b[1;33m(\u001b[0m\u001b[0mmethod\u001b[0m\u001b[1;33m,\u001b[0m \u001b[0murl\u001b[0m\u001b[1;33m,\u001b[0m \u001b[0mdata\u001b[0m\u001b[1;33m)\u001b[0m\u001b[1;33m[\u001b[0m\u001b[1;36m0\u001b[0m\u001b[1;33m]\u001b[0m\u001b[1;33m\u001b[0m\u001b[0m\n\u001b[0m\u001b[0;32m    333\u001b[0m         \u001b[1;32mexcept\u001b[0m \u001b[0mFacepyError\u001b[0m\u001b[1;33m:\u001b[0m\u001b[1;33m\u001b[0m\u001b[0m\n\u001b[0;32m    334\u001b[0m             \u001b[1;32mif\u001b[0m \u001b[0mretry\u001b[0m\u001b[1;33m:\u001b[0m\u001b[1;33m\u001b[0m\u001b[0m\n",
      "\u001b[1;32m/home/aneta/.virtualenvs/events/local/lib/python2.7/site-packages/facepy/graph_api.pyc\u001b[0m in \u001b[0;36mload\u001b[1;34m(method, url, data)\u001b[0m\n\u001b[0;32m    286\u001b[0m                 \u001b[1;32mraise\u001b[0m \u001b[0mHTTPError\u001b[0m\u001b[1;33m(\u001b[0m\u001b[0mexception\u001b[0m\u001b[1;33m)\u001b[0m\u001b[1;33m\u001b[0m\u001b[0m\n\u001b[0;32m    287\u001b[0m \u001b[1;33m\u001b[0m\u001b[0m\n\u001b[1;32m--> 288\u001b[1;33m             \u001b[0mresult\u001b[0m \u001b[1;33m=\u001b[0m \u001b[0mself\u001b[0m\u001b[1;33m.\u001b[0m\u001b[0m_parse\u001b[0m\u001b[1;33m(\u001b[0m\u001b[0mresponse\u001b[0m\u001b[1;33m.\u001b[0m\u001b[0mcontent\u001b[0m\u001b[1;33m)\u001b[0m\u001b[1;33m\u001b[0m\u001b[0m\n\u001b[0m\u001b[0;32m    289\u001b[0m \u001b[1;33m\u001b[0m\u001b[0m\n\u001b[0;32m    290\u001b[0m             \u001b[1;32mtry\u001b[0m\u001b[1;33m:\u001b[0m\u001b[1;33m\u001b[0m\u001b[0m\n",
      "\u001b[1;32m/home/aneta/.virtualenvs/events/local/lib/python2.7/site-packages/facepy/graph_api.pyc\u001b[0m in \u001b[0;36m_parse\u001b[1;34m(self, data)\u001b[0m\n\u001b[0;32m    391\u001b[0m                 raise exception(\n\u001b[0;32m    392\u001b[0m                     \u001b[0merror\u001b[0m\u001b[1;33m.\u001b[0m\u001b[0mget\u001b[0m\u001b[1;33m(\u001b[0m\u001b[1;34m'message'\u001b[0m\u001b[1;33m)\u001b[0m\u001b[1;33m,\u001b[0m\u001b[1;33m\u001b[0m\u001b[0m\n\u001b[1;32m--> 393\u001b[1;33m                     \u001b[0merror\u001b[0m\u001b[1;33m.\u001b[0m\u001b[0mget\u001b[0m\u001b[1;33m(\u001b[0m\u001b[1;34m'code'\u001b[0m\u001b[1;33m,\u001b[0m \u001b[0mNone\u001b[0m\u001b[1;33m)\u001b[0m\u001b[1;33m\u001b[0m\u001b[0m\n\u001b[0m\u001b[0;32m    394\u001b[0m                 )\n\u001b[0;32m    395\u001b[0m \u001b[1;33m\u001b[0m\u001b[0m\n",
      "\u001b[1;31mOAuthError\u001b[0m: [2500] An active access token must be used to query information about the current user."
     ]
    }
   ],
   "source": [
    "graph = facepy.GraphAPI(oath_access_token)\n",
    "events = graph.get('/me/events')"
   ]
  },
  {
   "cell_type": "code",
   "execution_count": null,
   "metadata": {
    "collapsed": false
   },
   "outputs": [],
   "source": [
    "#ACCESS_TOKEN = 'CAAM7XUmR4ZB8BAAvNAKbGdKPxkWu3ZCPaAucBDAb1OLCKHiMZC1ZCVEi7qDVoYDDwk2KRIN21NBL27s91nE9Kq98hv2Aawzk80OVz8SiMWqA4O4ykzKWZCkoT8EXFJGY2uf2pH2GIzno7pjs6nOZAau4SHitS1rbvROROglytowhFmk0EuyWSHi47c0qPtKPgz9sb9Xu2u4TtBWEblPvI5cvXbtqk9OfgZD'\n",
    "#graph = facebook.GraphAPI(ACCESS_TOKEN)\n",
    "#long_token=graph.extend_access_token('909696782427119','86e3df310627e80758ac045a933adc2e')\n",
    "#print long_token\n",
    "#graph_long = facebook.get_access_token_from_code(long_token, redirect_uri, '909696782427119','86e3df310627e80758ac045a933adc2e')\n",
    "\n",
    "\n",
    "all_events = []\n",
    "events = graph_long.get_object('/me/events')\n",
    "finished = False\n",
    "while(True):\n",
    "    try:\n",
    "        for event in events['data']:\n",
    "            if event['start_time'] < '2015-06':\n",
    "                finished = True\n",
    "                break\n",
    "            all_events.append(event)\n",
    "        # Attempt to make a request to the next page of data, if it exists.\n",
    "        if finished:\n",
    "            break\n",
    "        events=requests.get(events['paging']['next']).json()\n",
    "    except KeyError as e:\n",
    "        # When there are no more pages (['paging']['next']), break from the\n",
    "        # loop and end the script.\n",
    "        print len(all_events)\n",
    "        break\n",
    "for event in all_events:\n",
    "    print event['name']\n",
    "    print event['start_time']\n",
    "    print event.get('location', '?')\n",
    "    print"
   ]
  }
 ],
 "metadata": {
  "kernelspec": {
   "display_name": "Python 2",
   "language": "python",
   "name": "python2"
  },
  "language_info": {
   "codemirror_mode": {
    "name": "ipython",
    "version": 2
   },
   "file_extension": ".py",
   "mimetype": "text/x-python",
   "name": "python",
   "nbconvert_exporter": "python",
   "pygments_lexer": "ipython2",
   "version": "2.7.9"
  }
 },
 "nbformat": 4,
 "nbformat_minor": 0
}
