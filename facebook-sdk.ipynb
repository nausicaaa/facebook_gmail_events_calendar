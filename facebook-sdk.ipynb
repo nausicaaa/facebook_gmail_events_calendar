{
 "cells": [
  {
   "cell_type": "markdown",
   "metadata": {},
   "source": [
    "uczę się notebooka. \n",
    "żeby wejść - w terminalu ipython notebook\n",
    "w przeglądarce - New > Python 2\n",
    "plan:\n",
    "- zalogować się do fb przez sdk-facebook czyli przeczytać dokumentację:\n",
    "https://developers.facebook.com/docs/graph-api/using-graph-api/v2.3\n",
    "https://facebook-sdk.readthedocs.org/en/latest/api.html\n",
    "\n",
    "- przeczytać dokumentację fb Graph API, gdzie mogą być eventy i kalendarz\n",
    "- poczytać: file hierarchy linux i reddit linux\n",
    "- jak się zawieszę z czymś: command line the hard way i pytania od Bartka\n",
    "\n",
    "sdk-software developmenet kit"
   ]
  },
  {
   "cell_type": "code",
   "execution_count": 16,
   "metadata": {
    "collapsed": true
   },
   "outputs": [],
   "source": [
    "import facebook"
   ]
  },
  {
   "cell_type": "markdown",
   "metadata": {},
   "source": [
    "importuje moduł fb"
   ]
  },
  {
   "cell_type": "code",
   "execution_count": 26,
   "metadata": {
    "collapsed": false
   },
   "outputs": [
    {
     "ename": "TypeError",
     "evalue": "__init__() got an unexpected keyword argument 'version'",
     "output_type": "error",
     "traceback": [
      "\u001b[1;31m---------------------------------------------------------------------------\u001b[0m",
      "\u001b[1;31mTypeError\u001b[0m                                 Traceback (most recent call last)",
      "\u001b[1;32m<ipython-input-26-e07826a7511c>\u001b[0m in \u001b[0;36m<module>\u001b[1;34m()\u001b[0m\n\u001b[1;32m----> 1\u001b[1;33m \u001b[0mgraph\u001b[0m \u001b[1;33m=\u001b[0m \u001b[0mfacebook\u001b[0m\u001b[1;33m.\u001b[0m\u001b[0mGraphAPI\u001b[0m\u001b[1;33m(\u001b[0m\u001b[0maccess_token\u001b[0m\u001b[1;33m=\u001b[0m\u001b[1;34m'CAACEdEose0cBAKZBkI8uXuQxFJ0TXToWLFUvwOZBd78kq7925auSgyCFZC8DqHF5RxZC3VST4h9mz3JPAZAskb7NwayLXbacFDnj9DCZCbC6rcvmTbE10SshfZBSO7UNJPBVL48hbl25CLzfWhV6zB1nIaATULUlDWLFordhWLA4Dkj18tZB99Ftd6FG4okRZBzevD8TimB2JiUZA5TMowkhPmwEqjuv98FwkZD'\u001b[0m\u001b[1;33m,\u001b[0m \u001b[0mversion\u001b[0m\u001b[1;33m=\u001b[0m\u001b[1;34m'2.2'\u001b[0m\u001b[1;33m)\u001b[0m\u001b[1;33m\u001b[0m\u001b[0m\n\u001b[0m",
      "\u001b[1;31mTypeError\u001b[0m: __init__() got an unexpected keyword argument 'version'"
     ]
    }
   ],
   "source": [
    "graph = facebook.GraphAPI(access_token='CAACEdEose0cBAKZBkI8uXuQxFJ0TXToWLFUvwOZBd78kq7925auSgyCFZC8DqHF5RxZC3VST4h9mz3JPAZAskb7NwayLXbacFDnj9DCZCbC6rcvmTbE10SshfZBSO7UNJPBVL48hbl25CLzfWhV6zB1nIaATULUlDWLFordhWLA4Dkj18tZB99Ftd6FG4okRZBzevD8TimB2JiUZA5TMowkhPmwEqjuv98FwkZD', version='2.2')"
   ]
   # application on fb doesn't exist any more so sharing a secret key and access tokens is not a problem
  },
  {
   "cell_type": "markdown",
   "metadata": {},
   "source": [
    "nie działa, nie pasuje mu to version, mimo, ze jest na stronie, że tak trzeba wpisać: https://facebook-sdk.readthedocs.org/en/latest/api.html.\n",
    "więc sprawdzam w pomocy co tam piszą, okazuje się, że wystarczy wpisac sam token. token jako string, bo nie zaznaczyli. token musi byc generowany na nowo za kazdym razem, kiedy sie loguje. "
   ]
  },
  {
   "cell_type": "code",
   "execution_count": 10,
   "metadata": {
    "collapsed": true
   },
   "outputs": [],
   "source": [
    "facebook.GraphAPI?"
   ]
  },
  {
   "cell_type": "code",
   "execution_count": 27,
   "metadata": {
    "collapsed": false
   },
   "outputs": [],
   "source": [
    "graph = facebook.GraphAPI(\n",
    "    'CAACEdEose0cBAKZBkI8uXuQxFJ0TXToWLFUvwOZBd78kq7925auSg'\n",
    "    'yCFZC8DqHF5RxZC3VST4h9mz3JPAZAskb7NwayLXbacFDnj9DCZCbC'\n",
    "    '6rcvmTbE10SshfZBSO7UNJPBVL48hbl25CLzfWhV6zB1nIaATULUlD'\n",
    "    'WLFordhWLA4Dkj18tZB99Ftd6FG4okRZBzevD8TimB2JiUZA5TMowk'\n",
    "    'hPmwEqjuv98FwkZD')"
   ]
  },
  {
   "cell_type": "code",
   "execution_count": 76,
   "metadata": {
    "collapsed": true
   },
   "outputs": [],
   "source": [
    "graph.get_objects??"
   ]
  },
  {
   "cell_type": "markdown",
   "metadata": {},
   "source": [
    "proba 1:\n",
    "- znajduje id eventow w API wpisujac tam me/events. wyskakuje slownik eventow. paginowany \n",
    "- uzywam metody get_objects. korzystam z pomocy i robie, to co tam pisza\n",
    "-iteruje po wybranych eventach. to jest slownik, wiec probuje wyciagnac po key name. udaje sie\n",
    "    "
   ]
  },
  {
   "cell_type": "code",
   "execution_count": 31,
   "metadata": {
    "collapsed": true
   },
   "outputs": [],
   "source": [
    "events_ids = [\"363123440561319\", \"1576874419262561\"]"
   ]
  },
  {
   "cell_type": "code",
   "execution_count": 32,
   "metadata": {
    "collapsed": false
   },
   "outputs": [],
   "source": [
    "events = graph.get_objects(ids=events_ids)"
   ]
  },
  {
   "cell_type": "code",
   "execution_count": 75,
   "metadata": {
    "collapsed": false
   },
   "outputs": [
    {
     "ename": "KeyError",
     "evalue": "'363123440561319'",
     "output_type": "error",
     "traceback": [
      "\u001b[1;31m---------------------------------------------------------------------------\u001b[0m",
      "\u001b[1;31mKeyError\u001b[0m                                  Traceback (most recent call last)",
      "\u001b[1;32m<ipython-input-75-0e992873a6c1>\u001b[0m in \u001b[0;36m<module>\u001b[1;34m()\u001b[0m\n\u001b[0;32m      1\u001b[0m \u001b[1;32mfor\u001b[0m \u001b[0mevent_id\u001b[0m \u001b[1;32min\u001b[0m \u001b[0mevents_ids\u001b[0m\u001b[1;33m:\u001b[0m\u001b[1;33m\u001b[0m\u001b[0m\n\u001b[1;32m----> 2\u001b[1;33m     \u001b[1;32mprint\u001b[0m\u001b[1;33m(\u001b[0m\u001b[0mevents\u001b[0m\u001b[1;33m[\u001b[0m\u001b[0mevent_id\u001b[0m\u001b[1;33m]\u001b[0m\u001b[1;33m[\u001b[0m\u001b[1;34m'name'\u001b[0m\u001b[1;33m]\u001b[0m\u001b[1;33m)\u001b[0m\u001b[1;33m\u001b[0m\u001b[0m\n\u001b[0m",
      "\u001b[1;31mKeyError\u001b[0m: '363123440561319'"
     ]
    }
   ],
   "source": [
    "for event_id in events_ids:\n",
    "    print(events[event_id]['name'])"
   ]
  },
  {
   "cell_type": "markdown",
   "metadata": {},
   "source": [
    "wywoluje zmienna events, zeby zobaczyc co jest w srodku. tak mozna wywolywac zmienne w notebooku. w ipythonie sie printuje"
   ]
  },
  {
   "cell_type": "code",
   "execution_count": 56,
   "metadata": {
    "collapsed": false
   },
   "outputs": [
    {
     "data": {
      "text/plain": [
       "{u'1576874419262561': {u'description': u'Najbardziej kolorowy, najrado\\u015bniejszy Festiwal na \\u015bwiecie ponownie w Warszawie!\\n\\nPrzyjd\\u017a i pokoloruj z nami siebie i swoich najbli\\u017cszych! Festiwal jest otwarty dla wszystkich i zupe\\u0142nie DARMOWY:) \\nTym razem pojawimy si\\u0119 w najgor\\u0119tszym miejscu na mapie i b\\u0119dziemy kolorowa\\u0107 pla\\u017c\\u0119 w klubie La Playa! :)\\n\\nNiewa\\u017cne ile masz lat czy jakiej muzyki s\\u0142uchasz, wa\\u017cne \\u017ce potrafisz si\\u0119 u\\u015bmiecha\\u0107 i lubisz sp\\u0119dza\\u0107 czas w gronie zwariowanych os\\xf3b! Zapraszamy wszystkich bez wyj\\u0105tku!\\n\\nNa Festiwalu poza kolorow\\u0105 energi\\u0105 i koncertow\\u0105 muzyk\\u0105, znajdziecie tak\\u017ce wiele innych ciekawych atrakcji! \\u017b\\xf3\\u0142te okularki przez kt\\xf3re \\u015bwiat wydaje si\\u0119 bardziej r\\xf3\\u017cowy? Nie zabraknie ich w Warszawie! Darmowa pula Kolor\\xf3w Holi? B\\u0119dzie! Zumba? Jasne! Kolorowe i pe\\u0142ne wdzi\\u0119ku zegarki Ice-Watch (http://bit.ly/1Fm38O6)? Tak! A ponadto wiele innych niespodzianek! \\n\\nZa\\u0142\\xf3\\u017c bikini, przebierz si\\u0119 w najbardziej szalony str\\xf3j i zgarnij dodatkowe nagrody! U\\u015bmiechnij si\\u0119 do przechodnia, skorzystaj z darmowego przytulania, poznaj nowych ciekawych ludzi! To wszystko i jeszcze wi\\u0119cej 27 czerwca 2015 roku w klubie La Playa w Warszawie!\\n\\nStarujemy ju\\u017c o 12:00 z mini Festiwalem Kolor\\xf3w i zumb\\u0105 dla dzieci :) \\nO 16:00 zapraszamy wszystkich tych, kt\\xf3rzy chc\\u0105c pokolorowa\\u0107 Warszaw\\u0119 i bawi\\u0107 si\\u0119 z nami do p\\xf3\\u017anych godzin nocnych! Line up pojawi si\\u0119 wkr\\xf3tce!\\n\\nNie mo\\u017ce Was tam zabrakn\\u0105\\u0107:)\\n\\nPami\\u0119tajcie, im wi\\u0119cej ludzi Tym wi\\u0119cej zabawy, dlatego zapro\\u015bcie swoich znajomych i pom\\xf3\\u017ccie nam dotrze\\u0107 do wszystkich!',\n",
       "  u'end_time': u'2015-06-27T20:00:00+0200',\n",
       "  u'id': u'1576874419262561',\n",
       "  u'is_date_only': False,\n",
       "  u'location': u'La Playa',\n",
       "  u'name': u'Festiwal Kolor\\xf3w w Warszawie!',\n",
       "  u'owner': {u'category': u'Concert Tour',\n",
       "   u'id': u'197601973722090',\n",
       "   u'name': u'Festiwal Kolor\\xf3w'},\n",
       "  u'privacy': u'OPEN',\n",
       "  u'start_time': u'2015-06-27T12:00:00+0200',\n",
       "  u'timezone': u'Europe/Warsaw',\n",
       "  u'updated_time': u'2015-05-27T06:52:50+0000',\n",
       "  u'venue': {u'city': u'Warsaw',\n",
       "   u'country': u'Poland',\n",
       "   u'id': u'115569101800083',\n",
       "   u'latitude': 52.254678763304,\n",
       "   u'longitude': 21.020764678566,\n",
       "   u'street': u'ul. Wybrzeze Helskie 1/5',\n",
       "   u'zip': u'03-459'}},\n",
       " u'363123440561319': {u'description': u\"DELab UW organizuje Szko\\u0142\\u0119 Letni\\u0105 Analiz Danych w Pythonie \\u2013 intensywne, 5-dniowe warsztaty, skoncentrowane na eksploracyjnej analizie i wizualizacji danych dla przedstawicieli nauk spo\\u0142ecznych i pokrewnych.\\n\\nJe\\u015bli nie wystarczaj\\u0105 Ci arkusze kalkulacyjne, lub te\\u017c chcesz zobaczy\\u0107 ogrom mo\\u017cliwo\\u015bci przetwarzania danych, zapraszamy!\\n\\nB\\u0119dziemy u\\u017cywali IPython Notebook'a - \\u015brodowiska pozwalaj\\u0105cego na wydajna i elastyczn\\u0105 prac\\u0119 z danymi. Python jest to popularny, przejrzysty, \\u0142atwy do nauczenia j\\u0119zyk programowania, w ramach kt\\xf3rego funkcjonuje bogaty ekosystem narz\\u0119dzi przetwarzania i analiz danych (a w dodatku w pe\\u0142ni otwarty i darmowy).\\n\\nZaj\\u0119cia odb\\u0119d\\u0105 si\\u0119 w dniach 30 czerwca \\u2013 4 lipca 2015 roku (wtorek \\u2013 sobota), w nowym budynku BUW.\\nGodziny warsztat\\xf3w to 9.00 - 17.00.\\n\\nOd uczestnik\\xf3w nie jest wymagana wst\\u0119pna znajomo\\u015b\\u0107 jezyk\\xf3w i technik programowania.\\n\\nWi\\u0119cej informacji na stronie:\\nhttp://www.delab.uw.edu.pl/szkola-letnia-dane-2015/\",\n",
       "  u'end_time': u'2015-07-04T19:00:00+0200',\n",
       "  u'id': u'363123440561319',\n",
       "  u'is_date_only': False,\n",
       "  u'location': u'Warsaw University Library',\n",
       "  u'name': u'Szko\\u0142a Letnia Analizy Danych (w Pythonie) - dla nauk spo\\u0142ecznych',\n",
       "  u'owner': {u'category': u'Education',\n",
       "   u'id': u'779760935367271',\n",
       "   u'name': u'DELab UW'},\n",
       "  u'privacy': u'OPEN',\n",
       "  u'start_time': u'2015-06-30T09:00:00+0200',\n",
       "  u'timezone': u'Europe/Warsaw',\n",
       "  u'updated_time': u'2015-05-30T07:46:14+0000',\n",
       "  u'venue': {u'city': u'Warsaw',\n",
       "   u'country': u'Poland',\n",
       "   u'id': u'178547968875295',\n",
       "   u'latitude': 52.242033333333,\n",
       "   u'longitude': 21.024833333333,\n",
       "   u'street': u'ul. Dobra 56/66',\n",
       "   u'zip': u'00-312'}}}"
      ]
     },
     "execution_count": 56,
     "metadata": {},
     "output_type": "execute_result"
    }
   ],
   "source": [
    "events"
   ]
  },
  {
   "cell_type": "markdown",
   "metadata": {
    "collapsed": true
   },
   "source": [
    "Paginacja\n",
    "Szukam jak zrobic, zeby zmieniac strony, bo eventy sa paginwoane. znajduje cos w necie.\n",
    "bazuje na kodzie stad, ale zmieniam connections ana eventy: http://stackoverflow.com/questions/28589239/python-facebook-api-cursor-pagination\n",
    "importuje requesty, ktorych juz uzywalam\n",
    "nazywam acces token zmienna\n",
    "loguje sie do fb przez acces token\n",
    "nie wiem, jak zrobic, zeby wyciagnac dane ze wszystkich eventow, wiec probuje z tych 2 co mam id\n",
    "iteruje. robie to samo co wyzej\n",
    "\n",
    "tworze pusta liste, gdzie bede dodawac eventy z danymi\n",
    "\n",
    "pętla dopóki True czyli dopoki jest dalej strona\n",
    "spróbuj:- tu nie wiem co to jest\n",
    "dla kazdego eventu w wartosciach eventow. bylo tam 'data wczesniej, ale nie ma data w slowniku eventow, wiec trzeba po values go kierowac.\n",
    "wez liste all_events, dodaj do niej nazwe eventu (name to key)\n",
    "uzyj lib requests, metodą get wyciągnić paging, next eventow, to sa klucze w formacie json\n",
    "wyjatek Key Error- przerwij\n",
    "\n",
    "wyprintuj wszystkie eventy.\n",
    "printuje pusta liste.\n",
    "bo dalam mu 2 obiekty tylko\n"
   ]
  },
  {
   "cell_type": "code",
   "execution_count": 94,
   "metadata": {
    "collapsed": false
   },
   "outputs": [
    {
     "name": "stdout",
     "output_type": "stream",
     "text": [
      "['Festiwal Kolor\\xc3\\xb3w w Warszawie!', 'Szko\\xc5\\x82a Letnia Analizy Danych (w Pythonie) - dla nauk spo\\xc5\\x82ecznych']\n"
     ]
    }
   ],
   "source": [
    "import requests\n",
    "\n",
    "ACCESS_TOKEN = 'CAAM7XUmR4ZB8BAHGU2U72YvHFG9H6hpNC8j6iGxZAns3pjQzZCH63onW3SzTw1zEsdKVSkGjMyti6Q74UYUxRjSKDrjxRRByb9sbZC8ZCLKojMyxk3A2pCgTZAWBlI2MUijlK1cMztHZB7aijQc5cwZBkNnKZBWfEVT1OFJPIfdX3vSmM6wIy914nxZAxZA9VmwdZCGZAZBZA8gjVPlr5V4eu6f1MxtLZBjV76kDI9gZD'\n",
    "graph = facebook.GraphAPI(ACCESS_TOKEN)\n",
    "# graph.extend_access_token('909696782427119','86e3df310627e80758ac045a933adc2e')\n",
    "events = graph.get_objects(ids=events_ids)\n",
    "\n",
    "# for event_id in events_ids:\n",
    "#     event_name = events[event_id]['name']\n",
    "    \n",
    "all_events = []\n",
    "\n",
    "# Wrap this block in a while loop so we can keep paginating requests until\n",
    "# finished.\n",
    "while(True):\n",
    "    try:\n",
    "        for event in events.values():\n",
    "            all_events.append(event['name'].encode('utf-8'))\n",
    "        # Attempt to make a request to the next page of data, if it exists.\n",
    "        events=requests.get(event['paging']['next']).json()\n",
    "    except KeyError:\n",
    "        # When there are no more pages (['paging']['next']), break from the\n",
    "        # loop and end the script.\n",
    "        break\n",
    "print all_events"
   ]
  },
  {
   "cell_type": "markdown",
   "metadata": {},
   "source": [
    "zmieniam zmienna all_events, zeby nie byly tylko 2 eventy, a wszystkie. mozna tam wstawic po prostu sciezke z API\n",
    "prosze go o cale data po key dla kazdego eventu\n",
    "iteruje: dla kazdego klucza data w all_events wyprintuj wartosc po kluczu id, name i start_time\n",
    "robi to, ale nie przechodzi na kolejne strony. ale ja chce zeby byla nazwa, start time i miejsce. i paginacja"
   ]
  },
  {
   "cell_type": "code",
   "execution_count": 92,
   "metadata": {
    "collapsed": false
   },
   "outputs": [
    {
     "ename": "GraphAPIError",
     "evalue": "An active access token must be used to query information about the current user.",
     "output_type": "error",
     "traceback": [
      "\u001b[1;31m---------------------------------------------------------------------------\u001b[0m",
      "\u001b[1;31mGraphAPIError\u001b[0m                             Traceback (most recent call last)",
      "\u001b[1;32m<ipython-input-92-20b5889f19d9>\u001b[0m in \u001b[0;36m<module>\u001b[1;34m()\u001b[0m\n\u001b[1;32m----> 1\u001b[1;33m \u001b[0mall_events\u001b[0m \u001b[1;33m=\u001b[0m \u001b[0mgraph\u001b[0m\u001b[1;33m.\u001b[0m\u001b[0mget_object\u001b[0m\u001b[1;33m(\u001b[0m\u001b[1;34m'/me/events'\u001b[0m\u001b[1;33m)\u001b[0m\u001b[1;33m\u001b[0m\u001b[0m\n\u001b[0m\u001b[0;32m      2\u001b[0m \u001b[0mall_events\u001b[0m\u001b[1;33m[\u001b[0m\u001b[1;34m'data'\u001b[0m\u001b[1;33m]\u001b[0m\u001b[1;33m\u001b[0m\u001b[0m\n\u001b[0;32m      3\u001b[0m \u001b[1;32mfor\u001b[0m \u001b[0mevent\u001b[0m \u001b[1;32min\u001b[0m \u001b[0mall_events\u001b[0m\u001b[1;33m[\u001b[0m\u001b[1;34m'data'\u001b[0m\u001b[1;33m]\u001b[0m\u001b[1;33m:\u001b[0m\u001b[1;33m\u001b[0m\u001b[0m\n\u001b[0;32m      4\u001b[0m     \u001b[1;32mprint\u001b[0m \u001b[0mevent\u001b[0m\u001b[1;33m[\u001b[0m\u001b[1;34m'id'\u001b[0m\u001b[1;33m]\u001b[0m\u001b[1;33m,\u001b[0m \u001b[0mevent\u001b[0m\u001b[1;33m[\u001b[0m\u001b[1;34m'name'\u001b[0m\u001b[1;33m]\u001b[0m\u001b[1;33m,\u001b[0m \u001b[0mevent\u001b[0m\u001b[1;33m[\u001b[0m\u001b[1;34m'start_time'\u001b[0m\u001b[1;33m]\u001b[0m\u001b[1;33m\u001b[0m\u001b[0m\n",
      "\u001b[1;32m/home/aneta/.virtualenvs/events/local/lib/python2.7/site-packages/facebook.pyc\u001b[0m in \u001b[0;36mget_object\u001b[1;34m(self, id, **args)\u001b[0m\n\u001b[0;32m     97\u001b[0m     \u001b[1;32mdef\u001b[0m \u001b[0mget_object\u001b[0m\u001b[1;33m(\u001b[0m\u001b[0mself\u001b[0m\u001b[1;33m,\u001b[0m \u001b[0mid\u001b[0m\u001b[1;33m,\u001b[0m \u001b[1;33m**\u001b[0m\u001b[0margs\u001b[0m\u001b[1;33m)\u001b[0m\u001b[1;33m:\u001b[0m\u001b[1;33m\u001b[0m\u001b[0m\n\u001b[0;32m     98\u001b[0m         \u001b[1;34m\"\"\"Fetchs the given object from the graph.\"\"\"\u001b[0m\u001b[1;33m\u001b[0m\u001b[0m\n\u001b[1;32m---> 99\u001b[1;33m         \u001b[1;32mreturn\u001b[0m \u001b[0mself\u001b[0m\u001b[1;33m.\u001b[0m\u001b[0mrequest\u001b[0m\u001b[1;33m(\u001b[0m\u001b[0mid\u001b[0m\u001b[1;33m,\u001b[0m \u001b[0margs\u001b[0m\u001b[1;33m)\u001b[0m\u001b[1;33m\u001b[0m\u001b[0m\n\u001b[0m\u001b[0;32m    100\u001b[0m \u001b[1;33m\u001b[0m\u001b[0m\n\u001b[0;32m    101\u001b[0m     \u001b[1;32mdef\u001b[0m \u001b[0mget_objects\u001b[0m\u001b[1;33m(\u001b[0m\u001b[0mself\u001b[0m\u001b[1;33m,\u001b[0m \u001b[0mids\u001b[0m\u001b[1;33m,\u001b[0m \u001b[1;33m**\u001b[0m\u001b[0margs\u001b[0m\u001b[1;33m)\u001b[0m\u001b[1;33m:\u001b[0m\u001b[1;33m\u001b[0m\u001b[0m\n",
      "\u001b[1;32m/home/aneta/.virtualenvs/events/local/lib/python2.7/site-packages/facebook.pyc\u001b[0m in \u001b[0;36mrequest\u001b[1;34m(self, path, args, post_args)\u001b[0m\n\u001b[0;32m    296\u001b[0m         \u001b[1;32mexcept\u001b[0m \u001b[0murllib2\u001b[0m\u001b[1;33m.\u001b[0m\u001b[0mHTTPError\u001b[0m\u001b[1;33m,\u001b[0m \u001b[0me\u001b[0m\u001b[1;33m:\u001b[0m\u001b[1;33m\u001b[0m\u001b[0m\n\u001b[0;32m    297\u001b[0m             \u001b[0mresponse\u001b[0m \u001b[1;33m=\u001b[0m \u001b[0m_parse_json\u001b[0m\u001b[1;33m(\u001b[0m\u001b[0me\u001b[0m\u001b[1;33m.\u001b[0m\u001b[0mread\u001b[0m\u001b[1;33m(\u001b[0m\u001b[1;33m)\u001b[0m\u001b[1;33m)\u001b[0m\u001b[1;33m\u001b[0m\u001b[0m\n\u001b[1;32m--> 298\u001b[1;33m             \u001b[1;32mraise\u001b[0m \u001b[0mGraphAPIError\u001b[0m\u001b[1;33m(\u001b[0m\u001b[0mresponse\u001b[0m\u001b[1;33m)\u001b[0m\u001b[1;33m\u001b[0m\u001b[0m\n\u001b[0m\u001b[0;32m    299\u001b[0m         \u001b[1;32mexcept\u001b[0m \u001b[0mTypeError\u001b[0m\u001b[1;33m:\u001b[0m\u001b[1;33m\u001b[0m\u001b[0m\n\u001b[0;32m    300\u001b[0m             \u001b[1;31m# Timeout support for Python <2.6\u001b[0m\u001b[1;33m\u001b[0m\u001b[1;33m\u001b[0m\u001b[0m\n",
      "\u001b[1;31mGraphAPIError\u001b[0m: An active access token must be used to query information about the current user."
     ]
    }
   ],
   "source": [
    "all_events = graph.get_object('/me/events')\n",
    "all_events['data']\n",
    "for event in all_events['data']:\n",
    "    print event['id'], event['name'], event['start_time']"
   ]
  },
  {
   "cell_type": "markdown",
   "metadata": {},
   "source": [
    "Proba 2\n",
    "znow tworze pusta liste\n",
    "nazywam zmienna events wszytskie obiekty wyciagniete z api\n",
    "finished jest dla powtorzenia petli, kiedy................?\n",
    "\n",
    "petla jesli sa strony (true):\n",
    "spróbuj\n",
    "  dla kazdego eventu w wartosci od klucza data w events\n",
    "     jesli start time eventow (klucz) jest < niz czerwiec\n",
    "     zakoncz\n",
    "     przerwij\n",
    "  dodaj event do listy all_events\n",
    " teraz paginacja:\n",
    " jesli skonczyles czyli nie ma wiecej\n",
    "    przerwij\n",
    "  nadpisz zmienna events na samej gorze: uzyj requests, metody get, wartosci po kluczy pagng i next w jsonie\n",
    "\n",
    "wyjatek Keyerror\n",
    "  wyprintuj wtedy dlugosc listy\n",
    "  przerwij  na poczatku, kiedy byly proby, nie uzylismy finisha i on ciagle prontowal len, bo przechodzil do excpetion. trzeba mu bylo zmienic hierarchie tym\n",
    "\n",
    "kiedy juz zrobi liste tych eventow\n",
    "dla kazdego eventu w all_events\n",
    " daj mi wartosc name,\n",
    "           start time\n",
    "           location - tu metoda slownika get. wazna metoda, bo dzieki niej nie trzeba robic warunku. tylko on da mi wartosc, jesli bedzie taki klucz. czyli daj mi wartosci jesli taki key istnieje. drugi argument tutaj oznacza co ma wpisac, jak takiegoi klucza nie ma. \n",
    "           \n",
    "co to json, po co finished?\n",
    "\n",
    "\n"
   ]
  },
  {
   "cell_type": "code",
   "execution_count": 90,
   "metadata": {
    "collapsed": false
   },
   "outputs": [
    {
     "ename": "GraphAPIError",
     "evalue": "An active access token must be used to query information about the current user.",
     "output_type": "error",
     "traceback": [
      "\u001b[1;31m---------------------------------------------------------------------------\u001b[0m",
      "\u001b[1;31mGraphAPIError\u001b[0m                             Traceback (most recent call last)",
      "\u001b[1;32m<ipython-input-90-c18cdd71ab66>\u001b[0m in \u001b[0;36m<module>\u001b[1;34m()\u001b[0m\n\u001b[0;32m      1\u001b[0m \u001b[0mall_events\u001b[0m \u001b[1;33m=\u001b[0m \u001b[1;33m[\u001b[0m\u001b[1;33m]\u001b[0m\u001b[1;33m\u001b[0m\u001b[0m\n\u001b[1;32m----> 2\u001b[1;33m \u001b[0mevents\u001b[0m \u001b[1;33m=\u001b[0m \u001b[0mgraph\u001b[0m\u001b[1;33m.\u001b[0m\u001b[0mget_object\u001b[0m\u001b[1;33m(\u001b[0m\u001b[1;34m'/me/events'\u001b[0m\u001b[1;33m)\u001b[0m\u001b[1;33m\u001b[0m\u001b[0m\n\u001b[0m\u001b[0;32m      3\u001b[0m \u001b[0mfinished\u001b[0m \u001b[1;33m=\u001b[0m \u001b[0mFalse\u001b[0m\u001b[1;33m\u001b[0m\u001b[0m\n\u001b[0;32m      4\u001b[0m \u001b[1;32mwhile\u001b[0m\u001b[1;33m(\u001b[0m\u001b[0mTrue\u001b[0m\u001b[1;33m)\u001b[0m\u001b[1;33m:\u001b[0m\u001b[1;33m\u001b[0m\u001b[0m\n\u001b[0;32m      5\u001b[0m     \u001b[1;32mtry\u001b[0m\u001b[1;33m:\u001b[0m\u001b[1;33m\u001b[0m\u001b[0m\n",
      "\u001b[1;32m/home/aneta/.virtualenvs/events/local/lib/python2.7/site-packages/facebook.pyc\u001b[0m in \u001b[0;36mget_object\u001b[1;34m(self, id, **args)\u001b[0m\n\u001b[0;32m     97\u001b[0m     \u001b[1;32mdef\u001b[0m \u001b[0mget_object\u001b[0m\u001b[1;33m(\u001b[0m\u001b[0mself\u001b[0m\u001b[1;33m,\u001b[0m \u001b[0mid\u001b[0m\u001b[1;33m,\u001b[0m \u001b[1;33m**\u001b[0m\u001b[0margs\u001b[0m\u001b[1;33m)\u001b[0m\u001b[1;33m:\u001b[0m\u001b[1;33m\u001b[0m\u001b[0m\n\u001b[0;32m     98\u001b[0m         \u001b[1;34m\"\"\"Fetchs the given object from the graph.\"\"\"\u001b[0m\u001b[1;33m\u001b[0m\u001b[0m\n\u001b[1;32m---> 99\u001b[1;33m         \u001b[1;32mreturn\u001b[0m \u001b[0mself\u001b[0m\u001b[1;33m.\u001b[0m\u001b[0mrequest\u001b[0m\u001b[1;33m(\u001b[0m\u001b[0mid\u001b[0m\u001b[1;33m,\u001b[0m \u001b[0margs\u001b[0m\u001b[1;33m)\u001b[0m\u001b[1;33m\u001b[0m\u001b[0m\n\u001b[0m\u001b[0;32m    100\u001b[0m \u001b[1;33m\u001b[0m\u001b[0m\n\u001b[0;32m    101\u001b[0m     \u001b[1;32mdef\u001b[0m \u001b[0mget_objects\u001b[0m\u001b[1;33m(\u001b[0m\u001b[0mself\u001b[0m\u001b[1;33m,\u001b[0m \u001b[0mids\u001b[0m\u001b[1;33m,\u001b[0m \u001b[1;33m**\u001b[0m\u001b[0margs\u001b[0m\u001b[1;33m)\u001b[0m\u001b[1;33m:\u001b[0m\u001b[1;33m\u001b[0m\u001b[0m\n",
      "\u001b[1;32m/home/aneta/.virtualenvs/events/local/lib/python2.7/site-packages/facebook.pyc\u001b[0m in \u001b[0;36mrequest\u001b[1;34m(self, path, args, post_args)\u001b[0m\n\u001b[0;32m    296\u001b[0m         \u001b[1;32mexcept\u001b[0m \u001b[0murllib2\u001b[0m\u001b[1;33m.\u001b[0m\u001b[0mHTTPError\u001b[0m\u001b[1;33m,\u001b[0m \u001b[0me\u001b[0m\u001b[1;33m:\u001b[0m\u001b[1;33m\u001b[0m\u001b[0m\n\u001b[0;32m    297\u001b[0m             \u001b[0mresponse\u001b[0m \u001b[1;33m=\u001b[0m \u001b[0m_parse_json\u001b[0m\u001b[1;33m(\u001b[0m\u001b[0me\u001b[0m\u001b[1;33m.\u001b[0m\u001b[0mread\u001b[0m\u001b[1;33m(\u001b[0m\u001b[1;33m)\u001b[0m\u001b[1;33m)\u001b[0m\u001b[1;33m\u001b[0m\u001b[0m\n\u001b[1;32m--> 298\u001b[1;33m             \u001b[1;32mraise\u001b[0m \u001b[0mGraphAPIError\u001b[0m\u001b[1;33m(\u001b[0m\u001b[0mresponse\u001b[0m\u001b[1;33m)\u001b[0m\u001b[1;33m\u001b[0m\u001b[0m\n\u001b[0m\u001b[0;32m    299\u001b[0m         \u001b[1;32mexcept\u001b[0m \u001b[0mTypeError\u001b[0m\u001b[1;33m:\u001b[0m\u001b[1;33m\u001b[0m\u001b[0m\n\u001b[0;32m    300\u001b[0m             \u001b[1;31m# Timeout support for Python <2.6\u001b[0m\u001b[1;33m\u001b[0m\u001b[1;33m\u001b[0m\u001b[0m\n",
      "\u001b[1;31mGraphAPIError\u001b[0m: An active access token must be used to query information about the current user."
     ]
    }
   ],
   "source": [
    "all_events = []\n",
    "events = graph.get_object('/me/events')\n",
    "finished = False\n",
    "while(True):\n",
    "    try:\n",
    "        for event in events['data']:\n",
    "            if event['start_time'] < '2015-06':\n",
    "                finished = True\n",
    "                break\n",
    "            all_events.append(event)\n",
    "        # Attempt to make a request to the next page of data, if it exists.\n",
    "        if finished:\n",
    "            break\n",
    "        events=requests.get(events['paging']['next']).json()\n",
    "    except KeyError as e:\n",
    "        # When there are no more pages (['paging']['next']), break from the\n",
    "        # loop and end the script.\n",
    "        print len(all_events)\n",
    "        break\n",
    "for event in all_events:\n",
    "    print event['name']\n",
    "    print event['start_time']\n",
    "    print event.get('location', '?')\n",
    "    print"
   ]
  },
  {
   "cell_type": "markdown",
   "metadata": {
    "collapsed": true
   },
   "source": [
    "GET /oauth/CAACEdEose0cBANnTZAlQURraDZAsGtByoHF3L68LryCRXoEMNZClkE5poWmNXx0wTXhdJwKuXA4nnDApd84PjXbmm65DnYZBxOZAZBUskmqjOwCdXpk2oGFh92ifCA5NN9n5soe4heDIeGRZB4HAfbH1miAX8dcwnzkZCypSOSHa9WY4XiWqsRXQJLhukeTfKf5jQfNIlarrZC5E31agbgh9OWb8ev2zFZAxcZD?  \n",
    "    grant_type=fb_exchange_token&           \n",
    "    client_id={909696782427119}&\n",
    "    client_secret={0000000000000000000000000000000000000000}&\n",
    "    fb_exchange_token={short-lived-token} \n",
    "    \n",
    "https://developers.facebook.com/docs/facebook-login/access-tokens#extending  \n",
    "    zgodnie z tym tak mozna dostac extended tokena\n",
    "\n",
    "zeby to zrobic musze skorzystac z requestow, bo to jest napisane w JS"
   ]
  },
  {
   "cell_type": "code",
   "execution_count": 87,
   "metadata": {
    "collapsed": false
   },
   "outputs": [
    {
     "ename": "GraphAPIError",
     "evalue": "The access token does not belong to application 909696782427119",
     "output_type": "error",
     "traceback": [
      "\u001b[1;31m---------------------------------------------------------------------------\u001b[0m",
      "\u001b[1;31mGraphAPIError\u001b[0m                             Traceback (most recent call last)",
      "\u001b[1;32m<ipython-input-87-b9f8f7c1c488>\u001b[0m in \u001b[0;36m<module>\u001b[1;34m()\u001b[0m\n\u001b[1;32m----> 1\u001b[1;33m \u001b[0mlong_token\u001b[0m\u001b[1;33m=\u001b[0m\u001b[0mgraph\u001b[0m\u001b[1;33m.\u001b[0m\u001b[0mextend_access_token\u001b[0m\u001b[1;33m(\u001b[0m\u001b[1;34m'909696782427119'\u001b[0m\u001b[1;33m,\u001b[0m\u001b[1;34m'86e3df310627e80758ac045a933adc2e'\u001b[0m\u001b[1;33m)\u001b[0m\u001b[1;33m\u001b[0m\u001b[0m\n\u001b[0m",
      "\u001b[1;32m/home/aneta/.virtualenvs/events/local/lib/python2.7/site-packages/facebook.pyc\u001b[0m in \u001b[0;36mextend_access_token\u001b[1;34m(self, app_id, app_secret)\u001b[0m\n\u001b[0;32m    441\u001b[0m         \u001b[1;32melse\u001b[0m\u001b[1;33m:\u001b[0m\u001b[1;33m\u001b[0m\u001b[0m\n\u001b[0;32m    442\u001b[0m             \u001b[0mresponse\u001b[0m \u001b[1;33m=\u001b[0m \u001b[0mjson\u001b[0m\u001b[1;33m.\u001b[0m\u001b[0mloads\u001b[0m\u001b[1;33m(\u001b[0m\u001b[0mresponse\u001b[0m\u001b[1;33m)\u001b[0m\u001b[1;33m\u001b[0m\u001b[0m\n\u001b[1;32m--> 443\u001b[1;33m             \u001b[1;32mraise\u001b[0m \u001b[0mGraphAPIError\u001b[0m\u001b[1;33m(\u001b[0m\u001b[0mresponse\u001b[0m\u001b[1;33m)\u001b[0m\u001b[1;33m\u001b[0m\u001b[0m\n\u001b[0m\u001b[0;32m    444\u001b[0m \u001b[1;33m\u001b[0m\u001b[0m\n\u001b[0;32m    445\u001b[0m \u001b[1;33m\u001b[0m\u001b[0m\n",
      "\u001b[1;31mGraphAPIError\u001b[0m: The access token does not belong to application 909696782427119"
     ]
    }
   ],
   "source": [
    "long_token=graph.extend_access_token('909696782427119','86e3df310627e80758ac045a933adc2e')"
   ]
  }
 ],
 "metadata": {
  "kernelspec": {
   "display_name": "Python 2",
   "language": "python",
   "name": "python2"
  },
  "language_info": {
   "codemirror_mode": {
    "name": "ipython",
    "version": 2
   },
   "file_extension": ".py",
   "mimetype": "text/x-python",
   "name": "python",
   "nbconvert_exporter": "python",
   "pygments_lexer": "ipython2",
   "version": "2.7.9"
  }
 },
 "nbformat": 4,
 "nbformat_minor": 0
}
